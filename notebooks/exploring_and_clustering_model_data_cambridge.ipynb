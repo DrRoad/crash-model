{
 "cells": [
  {
   "cell_type": "markdown",
   "metadata": {},
   "source": [
    "## This notebook uses pickle file which is generated as part of the modelling step. This branch has corresponding call to create pickle file. Please run the modeling step of pipeline before running the analysis below."
   ]
  },
  {
   "cell_type": "markdown",
   "metadata": {},
   "source": [
    "# Importing required packages "
   ]
  },
  {
   "cell_type": "code",
   "execution_count": 1,
   "metadata": {},
   "outputs": [],
   "source": [
    "import pandas as pd\n",
    "import numpy as np\n",
    "import pickle\n",
    "from scipy import stats\n",
    "from sklearn.cluster import KMeans\n",
    "from sklearn import preprocessing\n",
    "from sklearn.cluster import KMeans\n",
    "from sklearn.manifold import TSNE\n",
    "import seaborn as sns\n",
    "from IPython.display import Markdown as md\n",
    "\n",
    "import sys\n",
    "sys.path.append(\"../src/\")\n",
    "import matplotlib.pyplot as plt\n",
    "from matplotlib.colors import LinearSegmentedColormap\n",
    "\n",
    "\n",
    "%matplotlib inline"
   ]
  },
  {
   "cell_type": "markdown",
   "metadata": {},
   "source": [
    "# Loading dataframe used in modeling "
   ]
  },
  {
   "cell_type": "code",
   "execution_count": 3,
   "metadata": {},
   "outputs": [],
   "source": [
    "df = pickle.load(open( \"../src/model_df_cambridge.pkl\", \"rb\"))"
   ]
  },
  {
   "cell_type": "code",
   "execution_count": 4,
   "metadata": {},
   "outputs": [
    {
     "data": {
      "text/html": [
       "<div>\n",
       "<style scoped>\n",
       "    .dataframe tbody tr th:only-of-type {\n",
       "        vertical-align: middle;\n",
       "    }\n",
       "\n",
       "    .dataframe tbody tr th {\n",
       "        vertical-align: top;\n",
       "    }\n",
       "\n",
       "    .dataframe thead th {\n",
       "        text-align: right;\n",
       "    }\n",
       "</style>\n",
       "<table border=\"1\" class=\"dataframe\">\n",
       "  <thead>\n",
       "    <tr style=\"text-align: right;\">\n",
       "      <th></th>\n",
       "      <th>segment_id</th>\n",
       "      <th>target</th>\n",
       "      <th>pre_week</th>\n",
       "      <th>pre_month</th>\n",
       "      <th>pre_quarter</th>\n",
       "      <th>avg_week</th>\n",
       "      <th>width</th>\n",
       "      <th>parking_tickets</th>\n",
       "      <th>lanes</th>\n",
       "      <th>hwy_type</th>\n",
       "      <th>...</th>\n",
       "      <th>oneway1</th>\n",
       "      <th>signal0</th>\n",
       "      <th>signal1</th>\n",
       "      <th>signal2</th>\n",
       "      <th>signal3</th>\n",
       "      <th>signal4</th>\n",
       "      <th>signal5</th>\n",
       "      <th>log_width</th>\n",
       "      <th>log_parking_tickets</th>\n",
       "      <th>intersection</th>\n",
       "    </tr>\n",
       "  </thead>\n",
       "  <tbody>\n",
       "    <tr>\n",
       "      <th>0</th>\n",
       "      <td>0010</td>\n",
       "      <td>0</td>\n",
       "      <td>0</td>\n",
       "      <td>1</td>\n",
       "      <td>1</td>\n",
       "      <td>0.007576</td>\n",
       "      <td>0</td>\n",
       "      <td>1</td>\n",
       "      <td>2</td>\n",
       "      <td>1</td>\n",
       "      <td>...</td>\n",
       "      <td>1</td>\n",
       "      <td>1</td>\n",
       "      <td>0</td>\n",
       "      <td>0</td>\n",
       "      <td>0</td>\n",
       "      <td>0</td>\n",
       "      <td>0</td>\n",
       "      <td>0.000000</td>\n",
       "      <td>0.693147</td>\n",
       "      <td>0</td>\n",
       "    </tr>\n",
       "    <tr>\n",
       "      <th>1</th>\n",
       "      <td>00100</td>\n",
       "      <td>0</td>\n",
       "      <td>0</td>\n",
       "      <td>0</td>\n",
       "      <td>0</td>\n",
       "      <td>0.030303</td>\n",
       "      <td>21</td>\n",
       "      <td>3762</td>\n",
       "      <td>2</td>\n",
       "      <td>1</td>\n",
       "      <td>...</td>\n",
       "      <td>0</td>\n",
       "      <td>1</td>\n",
       "      <td>0</td>\n",
       "      <td>0</td>\n",
       "      <td>0</td>\n",
       "      <td>0</td>\n",
       "      <td>0</td>\n",
       "      <td>3.091042</td>\n",
       "      <td>8.232972</td>\n",
       "      <td>0</td>\n",
       "    </tr>\n",
       "    <tr>\n",
       "      <th>2</th>\n",
       "      <td>001001</td>\n",
       "      <td>0</td>\n",
       "      <td>0</td>\n",
       "      <td>0</td>\n",
       "      <td>1</td>\n",
       "      <td>0.007576</td>\n",
       "      <td>21</td>\n",
       "      <td>272</td>\n",
       "      <td>2</td>\n",
       "      <td>5</td>\n",
       "      <td>...</td>\n",
       "      <td>0</td>\n",
       "      <td>1</td>\n",
       "      <td>0</td>\n",
       "      <td>0</td>\n",
       "      <td>0</td>\n",
       "      <td>0</td>\n",
       "      <td>0</td>\n",
       "      <td>3.091042</td>\n",
       "      <td>5.609472</td>\n",
       "      <td>0</td>\n",
       "    </tr>\n",
       "    <tr>\n",
       "      <th>3</th>\n",
       "      <td>001009</td>\n",
       "      <td>0</td>\n",
       "      <td>0</td>\n",
       "      <td>0</td>\n",
       "      <td>0</td>\n",
       "      <td>0.007576</td>\n",
       "      <td>15</td>\n",
       "      <td>23</td>\n",
       "      <td>2</td>\n",
       "      <td>0</td>\n",
       "      <td>...</td>\n",
       "      <td>1</td>\n",
       "      <td>1</td>\n",
       "      <td>0</td>\n",
       "      <td>0</td>\n",
       "      <td>0</td>\n",
       "      <td>0</td>\n",
       "      <td>0</td>\n",
       "      <td>2.772589</td>\n",
       "      <td>3.178054</td>\n",
       "      <td>0</td>\n",
       "    </tr>\n",
       "    <tr>\n",
       "      <th>4</th>\n",
       "      <td>001014</td>\n",
       "      <td>0</td>\n",
       "      <td>0</td>\n",
       "      <td>0</td>\n",
       "      <td>0</td>\n",
       "      <td>0.007576</td>\n",
       "      <td>15</td>\n",
       "      <td>187</td>\n",
       "      <td>2</td>\n",
       "      <td>5</td>\n",
       "      <td>...</td>\n",
       "      <td>0</td>\n",
       "      <td>1</td>\n",
       "      <td>0</td>\n",
       "      <td>0</td>\n",
       "      <td>0</td>\n",
       "      <td>0</td>\n",
       "      <td>0</td>\n",
       "      <td>2.772589</td>\n",
       "      <td>5.236442</td>\n",
       "      <td>0</td>\n",
       "    </tr>\n",
       "  </tbody>\n",
       "</table>\n",
       "<p>5 rows × 53 columns</p>\n",
       "</div>"
      ],
      "text/plain": [
       "  segment_id  target  pre_week  pre_month  pre_quarter  avg_week  width  \\\n",
       "0       0010       0         0          1            1  0.007576      0   \n",
       "1      00100       0         0          0            0  0.030303     21   \n",
       "2     001001       0         0          0            1  0.007576     21   \n",
       "3     001009       0         0          0            0  0.007576     15   \n",
       "4     001014       0         0          0            0  0.007576     15   \n",
       "\n",
       "   parking_tickets  lanes  hwy_type      ...       oneway1  signal0  signal1  \\\n",
       "0                1      2         1      ...             1        1        0   \n",
       "1             3762      2         1      ...             0        1        0   \n",
       "2              272      2         5      ...             0        1        0   \n",
       "3               23      2         0      ...             1        1        0   \n",
       "4              187      2         5      ...             0        1        0   \n",
       "\n",
       "   signal2  signal3  signal4  signal5  log_width  log_parking_tickets  \\\n",
       "0        0        0        0        0   0.000000             0.693147   \n",
       "1        0        0        0        0   3.091042             8.232972   \n",
       "2        0        0        0        0   3.091042             5.609472   \n",
       "3        0        0        0        0   2.772589             3.178054   \n",
       "4        0        0        0        0   2.772589             5.236442   \n",
       "\n",
       "   intersection  \n",
       "0             0  \n",
       "1             0  \n",
       "2             0  \n",
       "3             0  \n",
       "4             0  \n",
       "\n",
       "[5 rows x 53 columns]"
      ]
     },
     "execution_count": 4,
     "metadata": {},
     "output_type": "execute_result"
    }
   ],
   "source": [
    "df.head()"
   ]
  },
  {
   "cell_type": "markdown",
   "metadata": {},
   "source": [
    "# Correlation matrix"
   ]
  },
  {
   "cell_type": "code",
   "execution_count": 5,
   "metadata": {
    "scrolled": false
   },
   "outputs": [
    {
     "data": {
      "text/plain": [
       "<matplotlib.axes._subplots.AxesSubplot at 0x116060a20>"
      ]
     },
     "execution_count": 5,
     "metadata": {},
     "output_type": "execute_result"
    },
    {
     "data": {
      "image/png": "[encoded data removed]",
      "text/plain": [
       "<matplotlib.figure.Figure at 0x11036ccf8>"
      ]
     },
     "metadata": {},
     "output_type": "display_data"
    }
   ],
   "source": [
    "corr = df.corr()\n",
    "\n",
    "# Generate a mask for the upper triangle\n",
    "mask = np.zeros_like(corr, dtype=np.bool)\n",
    "mask[np.triu_indices_from(mask)] = True\n",
    "\n",
    "# Set up the matplotlib figure\n",
    "f, ax = plt.subplots(figsize=(15, 15))\n",
    "\n",
    "# Generate a custom diverging colormap\n",
    "cmap = sns.diverging_palette(220, 10, as_cmap=True)\n",
    "\n",
    "# Draw the heatmap with the mask and correct aspect ratio\n",
    "sns.heatmap(corr, mask=mask, cmap=cmap, vmax=.3, center=0,\n",
    "            square=True, linewidths=.5, cbar_kws={\"shrink\": .5})"
   ]
  },
  {
   "cell_type": "markdown",
   "metadata": {},
   "source": [
    "## Correlation between average weekly crash in a segment with other variables (sorted in desc order)"
   ]
  },
  {
   "cell_type": "code",
   "execution_count": 6,
   "metadata": {},
   "outputs": [
    {
     "name": "stdout",
     "output_type": "stream",
     "text": [
      "signal0               -0.260301\n",
      "hwy_type0             -0.230973\n",
      "lanes2                -0.194410\n",
      "lanes1                -0.079339\n",
      "osm_speed25           -0.032956\n",
      "osm_speed             -0.030833\n",
      "oneway0               -0.023333\n",
      "hwy_type16            -0.011799\n",
      "lanes6                -0.011799\n",
      "hwy_type8             -0.009158\n",
      "hwy_type14            -0.004574\n",
      "hwy_type15             0.000420\n",
      "hwy_type12             0.003549\n",
      "osm_speed20            0.008860\n",
      "osm_speed40            0.008923\n",
      "hwy_type10             0.009876\n",
      "hwy_type11             0.009876\n",
      "hwy_type6              0.020316\n",
      "oneway1                0.023333\n",
      "oneway                 0.023333\n",
      "lanes0                 0.029812\n",
      "lanes5                 0.030929\n",
      "osm_speed0             0.031406\n",
      "signal5                0.031818\n",
      "hwy_type3              0.034389\n",
      "parking_tickets        0.037394\n",
      "hwy_type9              0.042818\n",
      "signal3                0.043848\n",
      "hwy_type5              0.055585\n",
      "hwy_type1              0.079699\n",
      "hwy_type4              0.080408\n",
      "signal4                0.085317\n",
      "hwy_type13             0.090853\n",
      "hwy_type2              0.090959\n",
      "signal2                0.105741\n",
      "log_width              0.107416\n",
      "hwy_type7              0.113263\n",
      "target                 0.120847\n",
      "log_parking_tickets    0.128597\n",
      "intersection           0.144719\n",
      "lanes3                 0.147902\n",
      "seeclickfix            0.163430\n",
      "hwy_type               0.174494\n",
      "signal1                0.194180\n",
      "pre_week               0.200206\n",
      "lanes4                 0.219879\n",
      "width                  0.221664\n",
      "lanes                  0.232905\n",
      "signal                 0.239152\n",
      "pre_month              0.262235\n",
      "pre_quarter            0.421533\n",
      "avg_week               1.000000\n",
      "Name: avg_week, dtype: float64\n"
     ]
    }
   ],
   "source": [
    "print(pd.Series(corr[\"avg_week\"]).sort_values())"
   ]
  },
  {
   "cell_type": "markdown",
   "metadata": {},
   "source": [
    "\n",
    "## Highway Type 1,5 and 9 are ***positively*** correlated with  average crashes in segment"
   ]
  },
  {
   "cell_type": "markdown",
   "metadata": {},
   "source": [
    "# Descriptive Statistics for average crashes across segments"
   ]
  },
  {
   "cell_type": "code",
   "execution_count": 7,
   "metadata": {},
   "outputs": [
    {
     "data": {
      "text/plain": [
       "count    1521.000000\n",
       "mean        0.019948\n",
       "std         0.026903\n",
       "min         0.000000\n",
       "25%         0.007576\n",
       "50%         0.007576\n",
       "75%         0.022727\n",
       "max         0.318182\n",
       "Name: avg_week, dtype: float64"
      ]
     },
     "execution_count": 7,
     "metadata": {},
     "output_type": "execute_result"
    }
   ],
   "source": [
    "df.avg_week.describe()"
   ]
  },
  {
   "cell_type": "code",
   "execution_count": 8,
   "metadata": {},
   "outputs": [
    {
     "data": {
      "text/plain": [
       "<matplotlib.axes._subplots.AxesSubplot at 0x11629e198>"
      ]
     },
     "execution_count": 8,
     "metadata": {},
     "output_type": "execute_result"
    },
    {
     "data": {
      "image/png": "[encoded data removed]",
      "text/plain": [
       "<matplotlib.figure.Figure at 0x1162b5e80>"
      ]
     },
     "metadata": {},
     "output_type": "display_data"
    }
   ],
   "source": [
    "df.avg_week.hist(bins=50)"
   ]
  },
  {
   "cell_type": "code",
   "execution_count": 9,
   "metadata": {},
   "outputs": [
    {
     "data": {
      "text/markdown": [
       "### Median of average crash per segment is 0.0076 , while the average = 0.0199 . \n",
       "### There are few outliers with high average crashes (4th quantile = 0.0227). The segment 001849 has the highest average crashes with average per week crash = 0.3182\n"
      ],
      "text/plain": [
       "<IPython.core.display.Markdown object>"
      ]
     },
     "execution_count": 9,
     "metadata": {},
     "output_type": "execute_result"
    }
   ],
   "source": [
    "md(\"\"\"### Median of average crash per segment is %1.4f , while the average = %1.4f . \n",
    "### There are few outliers with high average crashes (4th quantile = %1.4f). The segment %s has the highest average crashes with average per week crash = %1.4f\n",
    "\"\"\"% ( \n",
    "    df.avg_week.median() , df.avg_week.mean() , df.avg_week.quantile(0.75),\n",
    "    df[df.avg_week==df.avg_week.max()].segment_id.values[0] , df.avg_week.max()\n",
    "    )\n",
    "  )"
   ]
  },
  {
   "cell_type": "code",
   "execution_count": null,
   "metadata": {},
   "outputs": [],
   "source": []
  },
  {
   "cell_type": "markdown",
   "metadata": {},
   "source": [
    "# In this analysis, we consider segments with top quantile as \"High risk\" segment"
   ]
  },
  {
   "cell_type": "code",
   "execution_count": 10,
   "metadata": {},
   "outputs": [
    {
     "data": {
      "text/plain": [
       "False    1208\n",
       "True      313\n",
       "Name: avg_week, dtype: int64"
      ]
     },
     "execution_count": 10,
     "metadata": {},
     "output_type": "execute_result"
    }
   ],
   "source": [
    "high_risk = pd.Series((df.avg_week > df.avg_week.quantile(0.75)))\n",
    "high_risk.value_counts()"
   ]
  },
  {
   "cell_type": "code",
   "execution_count": 11,
   "metadata": {},
   "outputs": [],
   "source": [
    "df_with_crash = df[high_risk]\n",
    "df_without_crash = df[~high_risk]"
   ]
  },
  {
   "cell_type": "code",
   "execution_count": 12,
   "metadata": {},
   "outputs": [
    {
     "data": {
      "text/plain": [
       "((313, 53), (1208, 53))"
      ]
     },
     "execution_count": 12,
     "metadata": {},
     "output_type": "execute_result"
    }
   ],
   "source": [
    "df_with_crash.shape , df_without_crash.shape"
   ]
  },
  {
   "cell_type": "markdown",
   "metadata": {},
   "source": [
    "## We are selecting a subset of columns which we will use in further analysis\n",
    "## Dropping variables like segement_id, target, pre_week,etc  "
   ]
  },
  {
   "cell_type": "code",
   "execution_count": 13,
   "metadata": {},
   "outputs": [
    {
     "data": {
      "text/plain": [
       "Index(['segment_id', 'target', 'pre_week', 'pre_month', 'pre_quarter',\n",
       "       'avg_week', 'width', 'parking_tickets', 'lanes', 'hwy_type',\n",
       "       'osm_speed', 'oneway', 'signal', 'seeclickfix', 'lanes0', 'lanes1',\n",
       "       'lanes2', 'lanes3', 'lanes4', 'lanes5', 'lanes6', 'hwy_type0',\n",
       "       'hwy_type1', 'hwy_type2', 'hwy_type3', 'hwy_type4', 'hwy_type5',\n",
       "       'hwy_type6', 'hwy_type7', 'hwy_type8', 'hwy_type9', 'hwy_type10',\n",
       "       'hwy_type11', 'hwy_type12', 'hwy_type13', 'hwy_type14', 'hwy_type15',\n",
       "       'hwy_type16', 'osm_speed0', 'osm_speed20', 'osm_speed25', 'osm_speed40',\n",
       "       'oneway0', 'oneway1', 'signal0', 'signal1', 'signal2', 'signal3',\n",
       "       'signal4', 'signal5', 'log_width', 'log_parking_tickets',\n",
       "       'intersection'],\n",
       "      dtype='object')"
      ]
     },
     "execution_count": 13,
     "metadata": {},
     "output_type": "execute_result"
    }
   ],
   "source": [
    "df_with_crash.columns"
   ]
  },
  {
   "cell_type": "code",
   "execution_count": 14,
   "metadata": {},
   "outputs": [],
   "source": [
    "df_minimal_columns = df[\n",
    "                        df_with_crash.columns[\n",
    "                            ~df_with_crash.columns.isin(['segment_id','target','log_width','log_parking_tickets','pre_week', 'pre_month', 'pre_quarter','avg_week'])\n",
    "                        ]\n",
    "                    ].fillna(0)"
   ]
  },
  {
   "cell_type": "code",
   "execution_count": 15,
   "metadata": {},
   "outputs": [
    {
     "data": {
      "text/plain": [
       "Index(['width', 'parking_tickets', 'lanes', 'hwy_type', 'osm_speed', 'oneway',\n",
       "       'signal', 'seeclickfix', 'lanes0', 'lanes1', 'lanes2', 'lanes3',\n",
       "       'lanes4', 'lanes5', 'lanes6', 'hwy_type0', 'hwy_type1', 'hwy_type2',\n",
       "       'hwy_type3', 'hwy_type4', 'hwy_type5', 'hwy_type6', 'hwy_type7',\n",
       "       'hwy_type8', 'hwy_type9', 'hwy_type10', 'hwy_type11', 'hwy_type12',\n",
       "       'hwy_type13', 'hwy_type14', 'hwy_type15', 'hwy_type16', 'osm_speed0',\n",
       "       'osm_speed20', 'osm_speed25', 'osm_speed40', 'oneway0', 'oneway1',\n",
       "       'signal0', 'signal1', 'signal2', 'signal3', 'signal4', 'signal5',\n",
       "       'intersection'],\n",
       "      dtype='object')"
      ]
     },
     "execution_count": 15,
     "metadata": {},
     "output_type": "execute_result"
    }
   ],
   "source": [
    "df_minimal_columns.columns"
   ]
  },
  {
   "cell_type": "code",
   "execution_count": 17,
   "metadata": {},
   "outputs": [
    {
     "data": {
      "text/html": [
       "<div>\n",
       "<style scoped>\n",
       "    .dataframe tbody tr th:only-of-type {\n",
       "        vertical-align: middle;\n",
       "    }\n",
       "\n",
       "    .dataframe tbody tr th {\n",
       "        vertical-align: top;\n",
       "    }\n",
       "\n",
       "    .dataframe thead th {\n",
       "        text-align: right;\n",
       "    }\n",
       "</style>\n",
       "<table border=\"1\" class=\"dataframe\">\n",
       "  <thead>\n",
       "    <tr style=\"text-align: right;\">\n",
       "      <th></th>\n",
       "      <th>width</th>\n",
       "      <th>parking_tickets</th>\n",
       "      <th>lanes</th>\n",
       "      <th>hwy_type</th>\n",
       "      <th>osm_speed</th>\n",
       "      <th>oneway</th>\n",
       "      <th>signal</th>\n",
       "      <th>seeclickfix</th>\n",
       "      <th>lanes0</th>\n",
       "      <th>lanes1</th>\n",
       "      <th>...</th>\n",
       "      <th>osm_speed40</th>\n",
       "      <th>oneway0</th>\n",
       "      <th>oneway1</th>\n",
       "      <th>signal0</th>\n",
       "      <th>signal1</th>\n",
       "      <th>signal2</th>\n",
       "      <th>signal3</th>\n",
       "      <th>signal4</th>\n",
       "      <th>signal5</th>\n",
       "      <th>intersection</th>\n",
       "    </tr>\n",
       "  </thead>\n",
       "  <tbody>\n",
       "    <tr>\n",
       "      <th>0</th>\n",
       "      <td>0</td>\n",
       "      <td>1</td>\n",
       "      <td>2</td>\n",
       "      <td>1</td>\n",
       "      <td>0</td>\n",
       "      <td>1</td>\n",
       "      <td>0</td>\n",
       "      <td>0</td>\n",
       "      <td>0</td>\n",
       "      <td>0</td>\n",
       "      <td>...</td>\n",
       "      <td>0</td>\n",
       "      <td>0</td>\n",
       "      <td>1</td>\n",
       "      <td>1</td>\n",
       "      <td>0</td>\n",
       "      <td>0</td>\n",
       "      <td>0</td>\n",
       "      <td>0</td>\n",
       "      <td>0</td>\n",
       "      <td>0</td>\n",
       "    </tr>\n",
       "    <tr>\n",
       "      <th>1</th>\n",
       "      <td>21</td>\n",
       "      <td>3762</td>\n",
       "      <td>2</td>\n",
       "      <td>1</td>\n",
       "      <td>0</td>\n",
       "      <td>0</td>\n",
       "      <td>0</td>\n",
       "      <td>15</td>\n",
       "      <td>0</td>\n",
       "      <td>0</td>\n",
       "      <td>...</td>\n",
       "      <td>0</td>\n",
       "      <td>1</td>\n",
       "      <td>0</td>\n",
       "      <td>1</td>\n",
       "      <td>0</td>\n",
       "      <td>0</td>\n",
       "      <td>0</td>\n",
       "      <td>0</td>\n",
       "      <td>0</td>\n",
       "      <td>0</td>\n",
       "    </tr>\n",
       "    <tr>\n",
       "      <th>2</th>\n",
       "      <td>21</td>\n",
       "      <td>272</td>\n",
       "      <td>2</td>\n",
       "      <td>5</td>\n",
       "      <td>0</td>\n",
       "      <td>0</td>\n",
       "      <td>0</td>\n",
       "      <td>4</td>\n",
       "      <td>0</td>\n",
       "      <td>0</td>\n",
       "      <td>...</td>\n",
       "      <td>0</td>\n",
       "      <td>1</td>\n",
       "      <td>0</td>\n",
       "      <td>1</td>\n",
       "      <td>0</td>\n",
       "      <td>0</td>\n",
       "      <td>0</td>\n",
       "      <td>0</td>\n",
       "      <td>0</td>\n",
       "      <td>0</td>\n",
       "    </tr>\n",
       "    <tr>\n",
       "      <th>3</th>\n",
       "      <td>15</td>\n",
       "      <td>23</td>\n",
       "      <td>2</td>\n",
       "      <td>0</td>\n",
       "      <td>0</td>\n",
       "      <td>1</td>\n",
       "      <td>0</td>\n",
       "      <td>10</td>\n",
       "      <td>0</td>\n",
       "      <td>0</td>\n",
       "      <td>...</td>\n",
       "      <td>0</td>\n",
       "      <td>0</td>\n",
       "      <td>1</td>\n",
       "      <td>1</td>\n",
       "      <td>0</td>\n",
       "      <td>0</td>\n",
       "      <td>0</td>\n",
       "      <td>0</td>\n",
       "      <td>0</td>\n",
       "      <td>0</td>\n",
       "    </tr>\n",
       "    <tr>\n",
       "      <th>4</th>\n",
       "      <td>15</td>\n",
       "      <td>187</td>\n",
       "      <td>2</td>\n",
       "      <td>5</td>\n",
       "      <td>25</td>\n",
       "      <td>0</td>\n",
       "      <td>0</td>\n",
       "      <td>8</td>\n",
       "      <td>0</td>\n",
       "      <td>0</td>\n",
       "      <td>...</td>\n",
       "      <td>0</td>\n",
       "      <td>1</td>\n",
       "      <td>0</td>\n",
       "      <td>1</td>\n",
       "      <td>0</td>\n",
       "      <td>0</td>\n",
       "      <td>0</td>\n",
       "      <td>0</td>\n",
       "      <td>0</td>\n",
       "      <td>0</td>\n",
       "    </tr>\n",
       "  </tbody>\n",
       "</table>\n",
       "<p>5 rows × 45 columns</p>\n",
       "</div>"
      ],
      "text/plain": [
       "   width  parking_tickets  lanes  hwy_type  osm_speed  oneway  signal  \\\n",
       "0      0                1      2         1          0       1       0   \n",
       "1     21             3762      2         1          0       0       0   \n",
       "2     21              272      2         5          0       0       0   \n",
       "3     15               23      2         0          0       1       0   \n",
       "4     15              187      2         5         25       0       0   \n",
       "\n",
       "   seeclickfix  lanes0  lanes1      ...       osm_speed40  oneway0  oneway1  \\\n",
       "0            0       0       0      ...                 0        0        1   \n",
       "1           15       0       0      ...                 0        1        0   \n",
       "2            4       0       0      ...                 0        1        0   \n",
       "3           10       0       0      ...                 0        0        1   \n",
       "4            8       0       0      ...                 0        1        0   \n",
       "\n",
       "   signal0  signal1  signal2  signal3  signal4  signal5  intersection  \n",
       "0        1        0        0        0        0        0             0  \n",
       "1        1        0        0        0        0        0             0  \n",
       "2        1        0        0        0        0        0             0  \n",
       "3        1        0        0        0        0        0             0  \n",
       "4        1        0        0        0        0        0             0  \n",
       "\n",
       "[5 rows x 45 columns]"
      ]
     },
     "execution_count": 17,
     "metadata": {},
     "output_type": "execute_result"
    }
   ],
   "source": [
    "df_minimal_columns.head()"
   ]
  },
  {
   "cell_type": "markdown",
   "metadata": {},
   "source": [
    "## To find the variables which make a contribution to a segment being a high risk or not, we use the following approach\n",
    "## We apply t-test on the continous variables to find if mean of those variables are different in high risk and not high risk segments. We further use p-value to test statistical significance.\n",
    "## For the boolean variables, we use proportion difference between average crash of high risk and non high-risk segments.\n"
   ]
  },
  {
   "cell_type": "code",
   "execution_count": 21,
   "metadata": {},
   "outputs": [],
   "source": [
    "col_with_significance = []\n",
    "col_with_no_significance = []\n",
    "\n",
    "for col in df_minimal_columns.columns:\n",
    "    if (str(df[col].dtype) in ['int64','float64']):\n",
    "        # and str(col) not in ['SPEEDLIMIT', 'Struct_Cnd', 'Surface_Tp','F_F_Class']) :\n",
    "        val = stats.ttest_ind(df_with_crash[col],df_without_crash[col],equal_var=False)\n",
    "        col_with_significance.append({ 'pvalue': val.pvalue, 'col': col }) if val.pvalue < 0.05 else   col_with_no_significance.append({ 'pvalue': val.pvalue, 'col': col })\n",
    "    elif str(df[col].dtype) in ['uint8']:\n",
    "        val = df_with_crash[col].mean() - df_without_crash[col].mean()\n",
    "        col_with_significance.append({ 'proportion_difference': val, 'col': col }) if np.abs(val) > 0.05 else   col_with_no_significance.append({ 'proportion_difference': val, 'col': col })\n"
   ]
  },
  {
   "cell_type": "markdown",
   "metadata": {},
   "source": [
    "# Features of segment with different distribution in high risk and non high risk segments"
   ]
  },
  {
   "cell_type": "code",
   "execution_count": 22,
   "metadata": {},
   "outputs": [
    {
     "data": {
      "text/html": [
       "<div>\n",
       "<style scoped>\n",
       "    .dataframe tbody tr th:only-of-type {\n",
       "        vertical-align: middle;\n",
       "    }\n",
       "\n",
       "    .dataframe tbody tr th {\n",
       "        vertical-align: top;\n",
       "    }\n",
       "\n",
       "    .dataframe thead th {\n",
       "        text-align: right;\n",
       "    }\n",
       "</style>\n",
       "<table border=\"1\" class=\"dataframe\">\n",
       "  <thead>\n",
       "    <tr style=\"text-align: right;\">\n",
       "      <th></th>\n",
       "      <th>col</th>\n",
       "      <th>proportion_difference</th>\n",
       "      <th>pvalue</th>\n",
       "    </tr>\n",
       "  </thead>\n",
       "  <tbody>\n",
       "    <tr>\n",
       "      <th>0</th>\n",
       "      <td>width</td>\n",
       "      <td>NaN</td>\n",
       "      <td>4.908693e-16</td>\n",
       "    </tr>\n",
       "    <tr>\n",
       "      <th>1</th>\n",
       "      <td>parking_tickets</td>\n",
       "      <td>NaN</td>\n",
       "      <td>3.454488e-02</td>\n",
       "    </tr>\n",
       "    <tr>\n",
       "      <th>2</th>\n",
       "      <td>lanes</td>\n",
       "      <td>NaN</td>\n",
       "      <td>1.034583e-12</td>\n",
       "    </tr>\n",
       "    <tr>\n",
       "      <th>3</th>\n",
       "      <td>hwy_type</td>\n",
       "      <td>NaN</td>\n",
       "      <td>3.938284e-11</td>\n",
       "    </tr>\n",
       "    <tr>\n",
       "      <th>4</th>\n",
       "      <td>oneway</td>\n",
       "      <td>NaN</td>\n",
       "      <td>1.937938e-02</td>\n",
       "    </tr>\n",
       "    <tr>\n",
       "      <th>5</th>\n",
       "      <td>signal</td>\n",
       "      <td>NaN</td>\n",
       "      <td>4.577088e-16</td>\n",
       "    </tr>\n",
       "    <tr>\n",
       "      <th>6</th>\n",
       "      <td>seeclickfix</td>\n",
       "      <td>NaN</td>\n",
       "      <td>5.817827e-07</td>\n",
       "    </tr>\n",
       "    <tr>\n",
       "      <th>7</th>\n",
       "      <td>lanes2</td>\n",
       "      <td>-0.166253</td>\n",
       "      <td>NaN</td>\n",
       "    </tr>\n",
       "    <tr>\n",
       "      <th>8</th>\n",
       "      <td>lanes3</td>\n",
       "      <td>0.097180</td>\n",
       "      <td>NaN</td>\n",
       "    </tr>\n",
       "    <tr>\n",
       "      <th>9</th>\n",
       "      <td>lanes4</td>\n",
       "      <td>0.112443</td>\n",
       "      <td>NaN</td>\n",
       "    </tr>\n",
       "    <tr>\n",
       "      <th>10</th>\n",
       "      <td>hwy_type0</td>\n",
       "      <td>-0.294390</td>\n",
       "      <td>NaN</td>\n",
       "    </tr>\n",
       "    <tr>\n",
       "      <th>11</th>\n",
       "      <td>hwy_type1</td>\n",
       "      <td>0.078994</td>\n",
       "      <td>NaN</td>\n",
       "    </tr>\n",
       "    <tr>\n",
       "      <th>12</th>\n",
       "      <td>hwy_type2</td>\n",
       "      <td>0.058130</td>\n",
       "      <td>NaN</td>\n",
       "    </tr>\n",
       "    <tr>\n",
       "      <th>13</th>\n",
       "      <td>hwy_type5</td>\n",
       "      <td>0.091091</td>\n",
       "      <td>NaN</td>\n",
       "    </tr>\n",
       "    <tr>\n",
       "      <th>14</th>\n",
       "      <td>oneway0</td>\n",
       "      <td>-0.071226</td>\n",
       "      <td>NaN</td>\n",
       "    </tr>\n",
       "    <tr>\n",
       "      <th>15</th>\n",
       "      <td>oneway1</td>\n",
       "      <td>0.071226</td>\n",
       "      <td>NaN</td>\n",
       "    </tr>\n",
       "    <tr>\n",
       "      <th>16</th>\n",
       "      <td>signal0</td>\n",
       "      <td>-0.305315</td>\n",
       "      <td>NaN</td>\n",
       "    </tr>\n",
       "    <tr>\n",
       "      <th>17</th>\n",
       "      <td>signal1</td>\n",
       "      <td>0.177959</td>\n",
       "      <td>NaN</td>\n",
       "    </tr>\n",
       "    <tr>\n",
       "      <th>18</th>\n",
       "      <td>signal2</td>\n",
       "      <td>0.091139</td>\n",
       "      <td>NaN</td>\n",
       "    </tr>\n",
       "    <tr>\n",
       "      <th>19</th>\n",
       "      <td>intersection</td>\n",
       "      <td>NaN</td>\n",
       "      <td>3.361934e-12</td>\n",
       "    </tr>\n",
       "  </tbody>\n",
       "</table>\n",
       "</div>"
      ],
      "text/plain": [
       "                col  proportion_difference        pvalue\n",
       "0             width                    NaN  4.908693e-16\n",
       "1   parking_tickets                    NaN  3.454488e-02\n",
       "2             lanes                    NaN  1.034583e-12\n",
       "3          hwy_type                    NaN  3.938284e-11\n",
       "4            oneway                    NaN  1.937938e-02\n",
       "5            signal                    NaN  4.577088e-16\n",
       "6       seeclickfix                    NaN  5.817827e-07\n",
       "7            lanes2              -0.166253           NaN\n",
       "8            lanes3               0.097180           NaN\n",
       "9            lanes4               0.112443           NaN\n",
       "10        hwy_type0              -0.294390           NaN\n",
       "11        hwy_type1               0.078994           NaN\n",
       "12        hwy_type2               0.058130           NaN\n",
       "13        hwy_type5               0.091091           NaN\n",
       "14          oneway0              -0.071226           NaN\n",
       "15          oneway1               0.071226           NaN\n",
       "16          signal0              -0.305315           NaN\n",
       "17          signal1               0.177959           NaN\n",
       "18          signal2               0.091139           NaN\n",
       "19     intersection                    NaN  3.361934e-12"
      ]
     },
     "execution_count": 22,
     "metadata": {},
     "output_type": "execute_result"
    }
   ],
   "source": [
    "pd.DataFrame(col_with_significance)"
   ]
  },
  {
   "cell_type": "markdown",
   "metadata": {},
   "source": [
    "# Features of segment with ***similar***  distribution in high risk and non high risk segments ( We will not use these features in further analysis)"
   ]
  },
  {
   "cell_type": "code",
   "execution_count": 23,
   "metadata": {},
   "outputs": [
    {
     "data": {
      "text/html": [
       "<div>\n",
       "<style scoped>\n",
       "    .dataframe tbody tr th:only-of-type {\n",
       "        vertical-align: middle;\n",
       "    }\n",
       "\n",
       "    .dataframe tbody tr th {\n",
       "        vertical-align: top;\n",
       "    }\n",
       "\n",
       "    .dataframe thead th {\n",
       "        text-align: right;\n",
       "    }\n",
       "</style>\n",
       "<table border=\"1\" class=\"dataframe\">\n",
       "  <thead>\n",
       "    <tr style=\"text-align: right;\">\n",
       "      <th></th>\n",
       "      <th>col</th>\n",
       "      <th>proportion_difference</th>\n",
       "      <th>pvalue</th>\n",
       "    </tr>\n",
       "  </thead>\n",
       "  <tbody>\n",
       "    <tr>\n",
       "      <th>0</th>\n",
       "      <td>osm_speed</td>\n",
       "      <td>NaN</td>\n",
       "      <td>0.260068</td>\n",
       "    </tr>\n",
       "    <tr>\n",
       "      <th>1</th>\n",
       "      <td>lanes0</td>\n",
       "      <td>-0.004488</td>\n",
       "      <td>NaN</td>\n",
       "    </tr>\n",
       "    <tr>\n",
       "      <th>2</th>\n",
       "      <td>lanes1</td>\n",
       "      <td>-0.045749</td>\n",
       "      <td>NaN</td>\n",
       "    </tr>\n",
       "    <tr>\n",
       "      <th>3</th>\n",
       "      <td>lanes5</td>\n",
       "      <td>0.007696</td>\n",
       "      <td>NaN</td>\n",
       "    </tr>\n",
       "    <tr>\n",
       "      <th>4</th>\n",
       "      <td>lanes6</td>\n",
       "      <td>-0.000828</td>\n",
       "      <td>NaN</td>\n",
       "    </tr>\n",
       "    <tr>\n",
       "      <th>5</th>\n",
       "      <td>hwy_type3</td>\n",
       "      <td>0.006273</td>\n",
       "      <td>NaN</td>\n",
       "    </tr>\n",
       "    <tr>\n",
       "      <th>6</th>\n",
       "      <td>hwy_type4</td>\n",
       "      <td>0.002367</td>\n",
       "      <td>NaN</td>\n",
       "    </tr>\n",
       "    <tr>\n",
       "      <th>7</th>\n",
       "      <td>hwy_type6</td>\n",
       "      <td>0.005446</td>\n",
       "      <td>NaN</td>\n",
       "    </tr>\n",
       "    <tr>\n",
       "      <th>8</th>\n",
       "      <td>hwy_type7</td>\n",
       "      <td>0.024266</td>\n",
       "      <td>NaN</td>\n",
       "    </tr>\n",
       "    <tr>\n",
       "      <th>9</th>\n",
       "      <td>hwy_type8</td>\n",
       "      <td>-0.003311</td>\n",
       "      <td>NaN</td>\n",
       "    </tr>\n",
       "    <tr>\n",
       "      <th>10</th>\n",
       "      <td>hwy_type9</td>\n",
       "      <td>0.007580</td>\n",
       "      <td>NaN</td>\n",
       "    </tr>\n",
       "    <tr>\n",
       "      <th>11</th>\n",
       "      <td>hwy_type10</td>\n",
       "      <td>0.003195</td>\n",
       "      <td>NaN</td>\n",
       "    </tr>\n",
       "    <tr>\n",
       "      <th>12</th>\n",
       "      <td>hwy_type11</td>\n",
       "      <td>0.003195</td>\n",
       "      <td>NaN</td>\n",
       "    </tr>\n",
       "    <tr>\n",
       "      <th>13</th>\n",
       "      <td>hwy_type12</td>\n",
       "      <td>-0.000944</td>\n",
       "      <td>NaN</td>\n",
       "    </tr>\n",
       "    <tr>\n",
       "      <th>14</th>\n",
       "      <td>hwy_type13</td>\n",
       "      <td>0.018225</td>\n",
       "      <td>NaN</td>\n",
       "    </tr>\n",
       "    <tr>\n",
       "      <th>15</th>\n",
       "      <td>hwy_type14</td>\n",
       "      <td>-0.000828</td>\n",
       "      <td>NaN</td>\n",
       "    </tr>\n",
       "    <tr>\n",
       "      <th>16</th>\n",
       "      <td>hwy_type15</td>\n",
       "      <td>0.001539</td>\n",
       "      <td>NaN</td>\n",
       "    </tr>\n",
       "    <tr>\n",
       "      <th>17</th>\n",
       "      <td>hwy_type16</td>\n",
       "      <td>-0.000828</td>\n",
       "      <td>NaN</td>\n",
       "    </tr>\n",
       "    <tr>\n",
       "      <th>18</th>\n",
       "      <td>osm_speed0</td>\n",
       "      <td>-0.031388</td>\n",
       "      <td>NaN</td>\n",
       "    </tr>\n",
       "    <tr>\n",
       "      <th>19</th>\n",
       "      <td>osm_speed20</td>\n",
       "      <td>0.002367</td>\n",
       "      <td>NaN</td>\n",
       "    </tr>\n",
       "    <tr>\n",
       "      <th>20</th>\n",
       "      <td>osm_speed25</td>\n",
       "      <td>0.024287</td>\n",
       "      <td>NaN</td>\n",
       "    </tr>\n",
       "    <tr>\n",
       "      <th>21</th>\n",
       "      <td>osm_speed40</td>\n",
       "      <td>0.004734</td>\n",
       "      <td>NaN</td>\n",
       "    </tr>\n",
       "    <tr>\n",
       "      <th>22</th>\n",
       "      <td>signal3</td>\n",
       "      <td>0.009236</td>\n",
       "      <td>NaN</td>\n",
       "    </tr>\n",
       "    <tr>\n",
       "      <th>23</th>\n",
       "      <td>signal4</td>\n",
       "      <td>0.019053</td>\n",
       "      <td>NaN</td>\n",
       "    </tr>\n",
       "    <tr>\n",
       "      <th>24</th>\n",
       "      <td>signal5</td>\n",
       "      <td>0.007929</td>\n",
       "      <td>NaN</td>\n",
       "    </tr>\n",
       "  </tbody>\n",
       "</table>\n",
       "</div>"
      ],
      "text/plain": [
       "            col  proportion_difference    pvalue\n",
       "0     osm_speed                    NaN  0.260068\n",
       "1        lanes0              -0.004488       NaN\n",
       "2        lanes1              -0.045749       NaN\n",
       "3        lanes5               0.007696       NaN\n",
       "4        lanes6              -0.000828       NaN\n",
       "5     hwy_type3               0.006273       NaN\n",
       "6     hwy_type4               0.002367       NaN\n",
       "7     hwy_type6               0.005446       NaN\n",
       "8     hwy_type7               0.024266       NaN\n",
       "9     hwy_type8              -0.003311       NaN\n",
       "10    hwy_type9               0.007580       NaN\n",
       "11   hwy_type10               0.003195       NaN\n",
       "12   hwy_type11               0.003195       NaN\n",
       "13   hwy_type12              -0.000944       NaN\n",
       "14   hwy_type13               0.018225       NaN\n",
       "15   hwy_type14              -0.000828       NaN\n",
       "16   hwy_type15               0.001539       NaN\n",
       "17   hwy_type16              -0.000828       NaN\n",
       "18   osm_speed0              -0.031388       NaN\n",
       "19  osm_speed20               0.002367       NaN\n",
       "20  osm_speed25               0.024287       NaN\n",
       "21  osm_speed40               0.004734       NaN\n",
       "22      signal3               0.009236       NaN\n",
       "23      signal4               0.019053       NaN\n",
       "24      signal5               0.007929       NaN"
      ]
     },
     "execution_count": 23,
     "metadata": {},
     "output_type": "execute_result"
    }
   ],
   "source": [
    "pd.DataFrame(col_with_no_significance)"
   ]
  },
  {
   "cell_type": "markdown",
   "metadata": {},
   "source": [
    "# Apply TSNE on the data to visualize how data is distributed"
   ]
  },
  {
   "cell_type": "code",
   "execution_count": 24,
   "metadata": {},
   "outputs": [],
   "source": [
    "df_input = df_minimal_columns.fillna(0)\n",
    "X_tsne = TSNE(n_components=2,random_state=12345).fit_transform(df_input)\n",
    "vis_x = X_tsne[:, 0]\n",
    "vis_y = X_tsne[:, 1]"
   ]
  },
  {
   "cell_type": "code",
   "execution_count": null,
   "metadata": {},
   "outputs": [],
   "source": []
  },
  {
   "cell_type": "markdown",
   "metadata": {},
   "source": [
    "# We are plotting three TSNE graphs\n",
    "## with high risk segments only\n",
    "## with not high risk segments only\n",
    "## high risk and not high risk segments together (red color for high risk)\n",
    "\n",
    "## The reason of having three separate graphs is because sometimes points of different overlap each other. So, to avoid such visualization issue, we plot three different plots as mentioned above"
   ]
  },
  {
   "cell_type": "markdown",
   "metadata": {},
   "source": [
    "## TSNE tries its best to transform how data points are distributed in an N-dimensional space into 2D while preserving the distances between each pair of vector (data point, here segments)"
   ]
  },
  {
   "cell_type": "markdown",
   "metadata": {},
   "source": [
    "# High Risk Segments are well distributed with some visible clusters"
   ]
  },
  {
   "cell_type": "code",
   "execution_count": 25,
   "metadata": {},
   "outputs": [
    {
     "data": {
      "text/plain": [
       "<matplotlib.collections.PathCollection at 0x116df6908>"
      ]
     },
     "execution_count": 25,
     "metadata": {},
     "output_type": "execute_result"
    },
    {
     "data": {
      "image/png": "[encoded data removed]",
      "text/plain": [
       "<matplotlib.figure.Figure at 0x116d929e8>"
      ]
     },
     "metadata": {},
     "output_type": "display_data"
    }
   ],
   "source": [
    "plt.figure(figsize=[10,10])\n",
    "plt.scatter(\n",
    "        vis_x[high_risk] ,\n",
    "        vis_y[high_risk],\n",
    "        s=1,\n",
    "        marker=\"X\",\n",
    "        )"
   ]
  },
  {
   "cell_type": "markdown",
   "metadata": {},
   "source": [
    "# Non High Risk Segments have similar patterns as high risk segments, though density of non high risk segment is more uniform than high risk segments"
   ]
  },
  {
   "cell_type": "code",
   "execution_count": 26,
   "metadata": {},
   "outputs": [
    {
     "data": {
      "text/plain": [
       "<matplotlib.collections.PathCollection at 0x116e50940>"
      ]
     },
     "execution_count": 26,
     "metadata": {},
     "output_type": "execute_result"
    },
    {
     "data": {
      "image/png": "[encoded data removed]",
      "text/plain": [
       "<matplotlib.figure.Figure at 0x116d92898>"
      ]
     },
     "metadata": {},
     "output_type": "display_data"
    }
   ],
   "source": [
    "plt.figure(figsize=[10,10])\n",
    "plt.scatter(\n",
    "        vis_x[~high_risk] ,\n",
    "        vis_y[~high_risk],\n",
    "        s=1,\n",
    "        marker=\"X\",\n",
    "        )"
   ]
  },
  {
   "cell_type": "markdown",
   "metadata": {},
   "source": [
    "# High risk (red) and Non high risk segments are plotted together"
   ]
  },
  {
   "cell_type": "code",
   "execution_count": 27,
   "metadata": {},
   "outputs": [
    {
     "data": {
      "text/plain": [
       "<matplotlib.collections.PathCollection at 0x116ea7c50>"
      ]
     },
     "execution_count": 27,
     "metadata": {},
     "output_type": "execute_result"
    },
    {
     "data": {
      "image/png": "[encoded data removed]",
      "text/plain": [
       "<matplotlib.figure.Figure at 0x116d92588>"
      ]
     },
     "metadata": {},
     "output_type": "display_data"
    }
   ],
   "source": [
    "plt.figure(figsize=[10,10])\n",
    "color_mapping = {0: sns.xkcd_rgb['grey'], 1: sns.xkcd_rgb['red']}\n",
    "colors = list(map(lambda x: color_mapping[x], high_risk))\n",
    "plt.scatter(\n",
    "        vis_x ,\n",
    "        vis_y,\n",
    "        s=16,\n",
    "        marker=\"X\",\n",
    "        c = colors\n",
    "        )"
   ]
  },
  {
   "cell_type": "markdown",
   "metadata": {},
   "source": [
    "# Applying KMeans Clustering and trying to list out characteristics of each cluster"
   ]
  },
  {
   "cell_type": "code",
   "execution_count": 28,
   "metadata": {},
   "outputs": [],
   "source": [
    "def evaluate_clusters(X,max_clusters):\n",
    "    error = np.zeros(max_clusters+1)\n",
    "    error[0] = 0;\n",
    "    for k in range(1,max_clusters+1):\n",
    "        kmeans = KMeans(init='k-means++', n_clusters=k, n_init=10)\n",
    "        kmeans.fit_predict(X)\n",
    "        error[k] = kmeans.inertia_\n",
    "\n",
    "    plt.plot(range(1,len(error)),error[1:])\n",
    "    plt.xlabel('Number of clusters')\n",
    "    plt.ylabel('Error')"
   ]
  },
  {
   "cell_type": "code",
   "execution_count": 29,
   "metadata": {},
   "outputs": [
    {
     "data": {
      "image/png": "[encoded data removed]",
      "text/plain": [
       "<matplotlib.figure.Figure at 0x116e0beb8>"
      ]
     },
     "metadata": {},
     "output_type": "display_data"
    }
   ],
   "source": [
    "# X_scale = preprocessing.normalize(df_minimal_columns, norm='l2')\n",
    "evaluate_clusters(df_minimal_columns.fillna(0),10)\n",
    "plt.show()"
   ]
  },
  {
   "cell_type": "code",
   "execution_count": 47,
   "metadata": {},
   "outputs": [],
   "source": [
    "from sklearn.cluster import KMeans\n",
    "\n",
    "#INTEGER FOR RANDOM SEEDING \n",
    "random_state = 170\n",
    "\n",
    "n_clusters = 2\n",
    "\n",
    "y_pred = KMeans(n_clusters=n_clusters, init='k-means++',random_state=random_state).fit_predict(df_minimal_columns)\n",
    "cluster_labels = y_pred\n",
    "\n"
   ]
  },
  {
   "cell_type": "code",
   "execution_count": 48,
   "metadata": {},
   "outputs": [
    {
     "data": {
      "text/plain": [
       "array([0, 0, 0, ..., 0, 0, 0], dtype=int32)"
      ]
     },
     "execution_count": 48,
     "metadata": {},
     "output_type": "execute_result"
    }
   ],
   "source": [
    "cluster_labels"
   ]
  },
  {
   "cell_type": "code",
   "execution_count": 42,
   "metadata": {},
   "outputs": [
    {
     "data": {
      "text/plain": [
       "<matplotlib.collections.PathCollection at 0x1166f1898>"
      ]
     },
     "execution_count": 42,
     "metadata": {},
     "output_type": "execute_result"
    },
    {
     "data": {
      "image/png": "[encoded data removed]",
      "text/plain": [
       "<matplotlib.figure.Figure at 0x10f6c8048>"
      ]
     },
     "metadata": {},
     "output_type": "display_data"
    }
   ],
   "source": [
    "plt.figure(figsize=[10,10])\n",
    "#vis_x_filtered = vis_x[]\n",
    "color_mapping = {0: sns.xkcd_rgb['green'], 1: sns.xkcd_rgb['red'], 2: sns.xkcd_rgb['blue'], 3: sns.xkcd_rgb['yellow'], 4: sns.xkcd_rgb['grey']}\n",
    "colors = list(map(lambda x: color_mapping[x], cluster_labels))\n",
    "plt.scatter(\n",
    "        vis_x ,\n",
    "        vis_y,\n",
    "        s=16,\n",
    "        marker=\"X\",\n",
    "        c = colors\n",
    "        )"
   ]
  },
  {
   "cell_type": "code",
   "execution_count": 43,
   "metadata": {},
   "outputs": [
    {
     "data": {
      "text/html": [
       "<div>\n",
       "<style scoped>\n",
       "    .dataframe tbody tr th:only-of-type {\n",
       "        vertical-align: middle;\n",
       "    }\n",
       "\n",
       "    .dataframe tbody tr th {\n",
       "        vertical-align: top;\n",
       "    }\n",
       "\n",
       "    .dataframe thead th {\n",
       "        text-align: right;\n",
       "    }\n",
       "</style>\n",
       "<table border=\"1\" class=\"dataframe\">\n",
       "  <thead>\n",
       "    <tr style=\"text-align: right;\">\n",
       "      <th></th>\n",
       "      <th>segment_id</th>\n",
       "      <th>target</th>\n",
       "      <th>pre_week</th>\n",
       "      <th>pre_month</th>\n",
       "      <th>pre_quarter</th>\n",
       "      <th>avg_week</th>\n",
       "      <th>width</th>\n",
       "      <th>parking_tickets</th>\n",
       "      <th>lanes</th>\n",
       "      <th>hwy_type</th>\n",
       "      <th>...</th>\n",
       "      <th>signal0</th>\n",
       "      <th>signal1</th>\n",
       "      <th>signal2</th>\n",
       "      <th>signal3</th>\n",
       "      <th>signal4</th>\n",
       "      <th>signal5</th>\n",
       "      <th>log_width</th>\n",
       "      <th>log_parking_tickets</th>\n",
       "      <th>intersection</th>\n",
       "      <th>cluster_label</th>\n",
       "    </tr>\n",
       "  </thead>\n",
       "  <tbody>\n",
       "    <tr>\n",
       "      <th>0</th>\n",
       "      <td>0010</td>\n",
       "      <td>0</td>\n",
       "      <td>0</td>\n",
       "      <td>1</td>\n",
       "      <td>1</td>\n",
       "      <td>0.007576</td>\n",
       "      <td>0</td>\n",
       "      <td>1</td>\n",
       "      <td>2</td>\n",
       "      <td>1</td>\n",
       "      <td>...</td>\n",
       "      <td>1</td>\n",
       "      <td>0</td>\n",
       "      <td>0</td>\n",
       "      <td>0</td>\n",
       "      <td>0</td>\n",
       "      <td>0</td>\n",
       "      <td>0.000000</td>\n",
       "      <td>0.693147</td>\n",
       "      <td>0</td>\n",
       "      <td>0</td>\n",
       "    </tr>\n",
       "    <tr>\n",
       "      <th>1</th>\n",
       "      <td>00100</td>\n",
       "      <td>0</td>\n",
       "      <td>0</td>\n",
       "      <td>0</td>\n",
       "      <td>0</td>\n",
       "      <td>0.030303</td>\n",
       "      <td>21</td>\n",
       "      <td>3762</td>\n",
       "      <td>2</td>\n",
       "      <td>1</td>\n",
       "      <td>...</td>\n",
       "      <td>1</td>\n",
       "      <td>0</td>\n",
       "      <td>0</td>\n",
       "      <td>0</td>\n",
       "      <td>0</td>\n",
       "      <td>0</td>\n",
       "      <td>3.091042</td>\n",
       "      <td>8.232972</td>\n",
       "      <td>0</td>\n",
       "      <td>2</td>\n",
       "    </tr>\n",
       "    <tr>\n",
       "      <th>2</th>\n",
       "      <td>001001</td>\n",
       "      <td>0</td>\n",
       "      <td>0</td>\n",
       "      <td>0</td>\n",
       "      <td>1</td>\n",
       "      <td>0.007576</td>\n",
       "      <td>21</td>\n",
       "      <td>272</td>\n",
       "      <td>2</td>\n",
       "      <td>5</td>\n",
       "      <td>...</td>\n",
       "      <td>1</td>\n",
       "      <td>0</td>\n",
       "      <td>0</td>\n",
       "      <td>0</td>\n",
       "      <td>0</td>\n",
       "      <td>0</td>\n",
       "      <td>3.091042</td>\n",
       "      <td>5.609472</td>\n",
       "      <td>0</td>\n",
       "      <td>0</td>\n",
       "    </tr>\n",
       "    <tr>\n",
       "      <th>3</th>\n",
       "      <td>001009</td>\n",
       "      <td>0</td>\n",
       "      <td>0</td>\n",
       "      <td>0</td>\n",
       "      <td>0</td>\n",
       "      <td>0.007576</td>\n",
       "      <td>15</td>\n",
       "      <td>23</td>\n",
       "      <td>2</td>\n",
       "      <td>0</td>\n",
       "      <td>...</td>\n",
       "      <td>1</td>\n",
       "      <td>0</td>\n",
       "      <td>0</td>\n",
       "      <td>0</td>\n",
       "      <td>0</td>\n",
       "      <td>0</td>\n",
       "      <td>2.772589</td>\n",
       "      <td>3.178054</td>\n",
       "      <td>0</td>\n",
       "      <td>0</td>\n",
       "    </tr>\n",
       "    <tr>\n",
       "      <th>4</th>\n",
       "      <td>001014</td>\n",
       "      <td>0</td>\n",
       "      <td>0</td>\n",
       "      <td>0</td>\n",
       "      <td>0</td>\n",
       "      <td>0.007576</td>\n",
       "      <td>15</td>\n",
       "      <td>187</td>\n",
       "      <td>2</td>\n",
       "      <td>5</td>\n",
       "      <td>...</td>\n",
       "      <td>1</td>\n",
       "      <td>0</td>\n",
       "      <td>0</td>\n",
       "      <td>0</td>\n",
       "      <td>0</td>\n",
       "      <td>0</td>\n",
       "      <td>2.772589</td>\n",
       "      <td>5.236442</td>\n",
       "      <td>0</td>\n",
       "      <td>0</td>\n",
       "    </tr>\n",
       "  </tbody>\n",
       "</table>\n",
       "<p>5 rows × 54 columns</p>\n",
       "</div>"
      ],
      "text/plain": [
       "  segment_id  target  pre_week  pre_month  pre_quarter  avg_week  width  \\\n",
       "0       0010       0         0          1            1  0.007576      0   \n",
       "1      00100       0         0          0            0  0.030303     21   \n",
       "2     001001       0         0          0            1  0.007576     21   \n",
       "3     001009       0         0          0            0  0.007576     15   \n",
       "4     001014       0         0          0            0  0.007576     15   \n",
       "\n",
       "   parking_tickets  lanes  hwy_type      ...        signal0  signal1  signal2  \\\n",
       "0                1      2         1      ...              1        0        0   \n",
       "1             3762      2         1      ...              1        0        0   \n",
       "2              272      2         5      ...              1        0        0   \n",
       "3               23      2         0      ...              1        0        0   \n",
       "4              187      2         5      ...              1        0        0   \n",
       "\n",
       "   signal3  signal4  signal5  log_width  log_parking_tickets  intersection  \\\n",
       "0        0        0        0   0.000000             0.693147             0   \n",
       "1        0        0        0   3.091042             8.232972             0   \n",
       "2        0        0        0   3.091042             5.609472             0   \n",
       "3        0        0        0   2.772589             3.178054             0   \n",
       "4        0        0        0   2.772589             5.236442             0   \n",
       "\n",
       "   cluster_label  \n",
       "0              0  \n",
       "1              2  \n",
       "2              0  \n",
       "3              0  \n",
       "4              0  \n",
       "\n",
       "[5 rows x 54 columns]"
      ]
     },
     "execution_count": 43,
     "metadata": {},
     "output_type": "execute_result"
    }
   ],
   "source": [
    "df['cluster_label'] =  cluster_labels\n",
    "df.head()"
   ]
  },
  {
   "cell_type": "code",
   "execution_count": 44,
   "metadata": {},
   "outputs": [
    {
     "name": "stdout",
     "output_type": "stream",
     "text": [
      "Average Weekly Crash in\n",
      "cluster 0 : 0.0195\n",
      "cluster 1 : 0.0227\n",
      "cluster 2 : 0.0271\n",
      "\n",
      "Mean and median crashes: 0.0199 , 0.0076\n"
     ]
    }
   ],
   "source": [
    "#checking incidents for each cluster\n",
    "print(\"Average Weekly Crash in\")\n",
    "\n",
    "for cluster in set(cluster_labels):\n",
    "    print(\"cluster %s : %1.4f\"%(str(cluster), df[df['cluster_label'] ==cluster]['avg_week'].mean()))\n",
    "\n",
    "print(\"\\nMean and median crashes: %1.4f , %1.4f\"% (df['avg_week'].mean()  ,df['avg_week'].median() ))"
   ]
  },
  {
   "cell_type": "markdown",
   "metadata": {},
   "source": [
    "# Next step is to find key characteristics of these clusters\n",
    "## For that we choose top features which are different in the given cluster when compared with the rest of the clusters\n",
    "## We select those specific features to explain the characteristics of the clusters\n",
    "## We could have selected same set of features to explain each cluster but we used this method to focus on the key characteritics of the cluster\n",
    "\n",
    "### In the given method, we compare each cluster with all points not in the given cluster\n",
    "### We select the features with lowest p value and print the characteristics of the given cluster"
   ]
  },
  {
   "cell_type": "code",
   "execution_count": 45,
   "metadata": {},
   "outputs": [],
   "source": [
    "from sklearn.feature_selection import SelectPercentile,f_classif\n",
    "from sklearn.model_selection import train_test_split\n",
    "\n",
    "\n",
    "def get_top_features_from_dataset(data, cluster_labels,n_clusters=3):\n",
    "\n",
    "    temp_labels = []\n",
    "    dataset = data.as_matrix()\n",
    "    labels = set(cluster_labels)\n",
    "    for label in labels:\n",
    "        revised_labels = pd.Series(cluster_labels)        \n",
    "        revised_labels = revised_labels.apply(lambda x: 1 if x == label else 0)\n",
    "        \n",
    "        X_train, X_test, y_train, y_test = train_test_split(dataset, revised_labels.as_matrix(),random_state=0,test_size=1)\n",
    "        fscore = f_classif(X_train,y_train)\n",
    "\n",
    "        top_feature_set = {\n",
    "            \"cluster_label\": str(label),\n",
    "            \"names\" : list(data.columns.values),\n",
    "            \"scores\" : fscore[0].tolist(),\n",
    "            \"pvalues\" : fscore[1].tolist()               \n",
    "        }    \n",
    "    \n",
    "        temp_labels.append(top_feature_set)\n",
    "\n",
    "    return temp_labels"
   ]
  },
  {
   "cell_type": "code",
   "execution_count": 46,
   "metadata": {
    "scrolled": false
   },
   "outputs": [
    {
     "name": "stdout",
     "output_type": "stream",
     "text": [
      "\n",
      "\n",
      "Cluster : 0\n",
      "-------\n",
      "Mean crashes: 0.01948\n",
      "Characteristics of cluster 0\n",
      "feature_name  mean in cluster  mean (overall)  proportion ratio\n",
      "parking_tickets       220.218093      545.646285          0.403591\n",
      "      hwy_type0         0.380084        0.361604          1.051105\n",
      "         lanes3         0.064516        0.072978          0.884045\n",
      "     hwy_type12         0.002104        0.003945          0.533310\n",
      "      hwy_type2         0.056101        0.062459          0.898206\n",
      "          width        15.535063       15.696252          0.989731\n",
      "      hwy_type1         0.124123        0.132150          0.939262\n",
      "       hwy_type         2.639551        2.700197          0.977540\n",
      "\n",
      "\n",
      "Cluster : 1\n",
      "-------\n",
      "Mean crashes: 0.02273\n",
      "Characteristics of cluster 1\n",
      "feature_name  mean in cluster  mean (overall)  proportion ratio\n",
      "parking_tickets         160863.0      545.646285        294.811867\n",
      "         lanes3              1.0        0.072978         13.702703\n",
      "      hwy_type1              1.0        0.132150          7.567164\n",
      "         lanes2              0.0        0.764629          0.000000\n",
      "     osm_speed0              1.0        0.341223          2.930636\n",
      "      osm_speed              0.0       16.502301          0.000000\n",
      "    osm_speed25              0.0        0.654832          0.000000\n",
      "         oneway              0.0        0.601578          0.000000\n",
      "\n",
      "\n",
      "Cluster : 2\n",
      "-------\n",
      "Mean crashes: 0.02708\n",
      "Characteristics of cluster 2\n",
      "feature_name  mean in cluster  mean (overall)  proportion ratio\n",
      "parking_tickets      3776.957447      545.646285          6.921989\n",
      "      hwy_type0         0.085106        0.361604          0.235358\n",
      "         lanes3         0.191489        0.072978          2.623922\n",
      "     hwy_type12         0.031915        0.003945          8.090426\n",
      "      hwy_type2         0.159574        0.062459          2.554871\n",
      "          width        18.106383       15.696252          1.153548\n",
      "      hwy_type1         0.244681        0.132150          1.851540\n",
      "       hwy_type         3.638298        2.700197          1.347419\n"
     ]
    }
   ],
   "source": [
    "for result in get_top_features_from_dataset(df_minimal_columns, cluster_labels,n_clusters):\n",
    "    #Get top 5 value of pvalues\n",
    "    top_5_p_values_indeces = np.argsort(result['pvalues'])[0:8]\n",
    "    \n",
    "    print(\"\\n\\nCluster : %s\"%str(result['cluster_label']))\n",
    "    print(\"-------\")\n",
    "    print(\"Mean crashes: %1.5f\"%df[df['cluster_label'] == int(result['cluster_label']) ]['avg_week'].mean())\n",
    "    print(\"Characteristics of cluster %s\"%str(result['cluster_label']))\n",
    "    \n",
    "    tmp_df = pd.DataFrame(columns=['feature_name','mean in cluster','mean (overall)','proportion ratio'])\n",
    "    \n",
    "    for index in top_5_p_values_indeces:\n",
    "        name = result['names'][index]\n",
    "        tmp_df= tmp_df.append({\n",
    "            'feature_name': name  ,\n",
    "            'mean in cluster': df[df['cluster_label'] == int(result['cluster_label']) ][name].mean() ,\n",
    "            'mean (overall)': df[name].mean(),\n",
    "            'proportion ratio': df[df['cluster_label'] == int(result['cluster_label']) ][name].mean() / df[name].mean()\n",
    "        },ignore_index=True)\n",
    "\n",
    "        \n",
    "    print(tmp_df.to_string(index=False))\n",
    "    "
   ]
  },
  {
   "cell_type": "code",
   "execution_count": null,
   "metadata": {},
   "outputs": [],
   "source": []
  },
  {
   "cell_type": "code",
   "execution_count": null,
   "metadata": {},
   "outputs": [],
   "source": []
  }
 ],
 "metadata": {
  "kernelspec": {
   "display_name": "Python 3",
   "language": "python",
   "name": "python3"
  },
  "language_info": {
   "codemirror_mode": {
    "name": "ipython",
    "version": 3
   },
   "file_extension": ".py",
   "mimetype": "text/x-python",
   "name": "python",
   "nbconvert_exporter": "python",
   "pygments_lexer": "ipython3",
   "version": "3.6.4"
  }
 },
 "nbformat": 4,
 "nbformat_minor": 2
}
